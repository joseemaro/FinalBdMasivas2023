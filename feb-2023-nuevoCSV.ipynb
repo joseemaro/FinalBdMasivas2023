{
 "cells": [
  {
   "cell_type": "code",
   "execution_count": 2,
   "metadata": {
    "collapsed": true
   },
   "outputs": [],
   "source": [
    "import pandas as pd"
   ]
  },
  {
   "cell_type": "code",
   "execution_count": 41,
   "outputs": [],
   "source": [
    "df = pd.read_csv('https://raw.githubusercontent.com/MengtingWan/marketBias/master/data/df_electronics.csv')"
   ],
   "metadata": {
    "collapsed": false
   }
  },
  {
   "cell_type": "code",
   "execution_count": 4,
   "outputs": [
    {
     "name": "stdout",
     "output_type": "stream",
     "text": [
      "Numero total de registros: 1292954\n"
     ]
    }
   ],
   "source": [
    "print(\"Numero total de registros: {}\".format(df.shape[0]))"
   ],
   "metadata": {
    "collapsed": false
   }
  },
  {
   "cell_type": "code",
   "execution_count": 5,
   "outputs": [
    {
     "data": {
      "text/plain": "   item_id  user_id  rating   timestamp model_attr                category  \\\n0        0        0     5.0  1999-06-13     Female  Portable Audio & Video   \n1        0        1     5.0  1999-06-14     Female  Portable Audio & Video   \n2        0        2     3.0  1999-06-17     Female  Portable Audio & Video   \n3        0        3     1.0  1999-07-01     Female  Portable Audio & Video   \n4        0        4     2.0  1999-07-06     Female  Portable Audio & Video   \n\n  brand  year user_attr  split  \n0   NaN  1999       NaN      0  \n1   NaN  1999       NaN      0  \n2   NaN  1999       NaN      0  \n3   NaN  1999       NaN      0  \n4   NaN  1999       NaN      0  ",
      "text/html": "<div>\n<style scoped>\n    .dataframe tbody tr th:only-of-type {\n        vertical-align: middle;\n    }\n\n    .dataframe tbody tr th {\n        vertical-align: top;\n    }\n\n    .dataframe thead th {\n        text-align: right;\n    }\n</style>\n<table border=\"1\" class=\"dataframe\">\n  <thead>\n    <tr style=\"text-align: right;\">\n      <th></th>\n      <th>item_id</th>\n      <th>user_id</th>\n      <th>rating</th>\n      <th>timestamp</th>\n      <th>model_attr</th>\n      <th>category</th>\n      <th>brand</th>\n      <th>year</th>\n      <th>user_attr</th>\n      <th>split</th>\n    </tr>\n  </thead>\n  <tbody>\n    <tr>\n      <th>0</th>\n      <td>0</td>\n      <td>0</td>\n      <td>5.0</td>\n      <td>1999-06-13</td>\n      <td>Female</td>\n      <td>Portable Audio &amp; Video</td>\n      <td>NaN</td>\n      <td>1999</td>\n      <td>NaN</td>\n      <td>0</td>\n    </tr>\n    <tr>\n      <th>1</th>\n      <td>0</td>\n      <td>1</td>\n      <td>5.0</td>\n      <td>1999-06-14</td>\n      <td>Female</td>\n      <td>Portable Audio &amp; Video</td>\n      <td>NaN</td>\n      <td>1999</td>\n      <td>NaN</td>\n      <td>0</td>\n    </tr>\n    <tr>\n      <th>2</th>\n      <td>0</td>\n      <td>2</td>\n      <td>3.0</td>\n      <td>1999-06-17</td>\n      <td>Female</td>\n      <td>Portable Audio &amp; Video</td>\n      <td>NaN</td>\n      <td>1999</td>\n      <td>NaN</td>\n      <td>0</td>\n    </tr>\n    <tr>\n      <th>3</th>\n      <td>0</td>\n      <td>3</td>\n      <td>1.0</td>\n      <td>1999-07-01</td>\n      <td>Female</td>\n      <td>Portable Audio &amp; Video</td>\n      <td>NaN</td>\n      <td>1999</td>\n      <td>NaN</td>\n      <td>0</td>\n    </tr>\n    <tr>\n      <th>4</th>\n      <td>0</td>\n      <td>4</td>\n      <td>2.0</td>\n      <td>1999-07-06</td>\n      <td>Female</td>\n      <td>Portable Audio &amp; Video</td>\n      <td>NaN</td>\n      <td>1999</td>\n      <td>NaN</td>\n      <td>0</td>\n    </tr>\n  </tbody>\n</table>\n</div>"
     },
     "execution_count": 5,
     "metadata": {},
     "output_type": "execute_result"
    }
   ],
   "source": [
    "df.head()"
   ],
   "metadata": {
    "collapsed": false
   }
  },
  {
   "cell_type": "code",
   "execution_count": 6,
   "outputs": [
    {
     "name": "stdout",
     "output_type": "stream",
     "text": [
      " Numero de registros duplicados : 0 \n",
      " No se encontraron registros duplicados\n"
     ]
    }
   ],
   "source": [
    "dup=df.duplicated()\n",
    "print(' Numero de registros duplicados :',sum(dup), '\\n','No se encontraron registros duplicados')"
   ],
   "metadata": {
    "collapsed": false
   }
  },
  {
   "cell_type": "code",
   "execution_count": 7,
   "outputs": [
    {
     "name": "stdout",
     "output_type": "stream",
     "text": [
      "Numero de registros nulos\n"
     ]
    },
    {
     "data": {
      "text/plain": "       Campos  Registros Faltantes\n0     item_id                    0\n1     user_id                    0\n2      rating                    0\n3   timestamp                    0\n4  model_attr                    0\n5    category                    0\n6       brand               961834\n7        year                    0\n8   user_attr              1118830\n9       split                    0",
      "text/html": "<div>\n<style scoped>\n    .dataframe tbody tr th:only-of-type {\n        vertical-align: middle;\n    }\n\n    .dataframe tbody tr th {\n        vertical-align: top;\n    }\n\n    .dataframe thead th {\n        text-align: right;\n    }\n</style>\n<table border=\"1\" class=\"dataframe\">\n  <thead>\n    <tr style=\"text-align: right;\">\n      <th></th>\n      <th>Campos</th>\n      <th>Registros Faltantes</th>\n    </tr>\n  </thead>\n  <tbody>\n    <tr>\n      <th>0</th>\n      <td>item_id</td>\n      <td>0</td>\n    </tr>\n    <tr>\n      <th>1</th>\n      <td>user_id</td>\n      <td>0</td>\n    </tr>\n    <tr>\n      <th>2</th>\n      <td>rating</td>\n      <td>0</td>\n    </tr>\n    <tr>\n      <th>3</th>\n      <td>timestamp</td>\n      <td>0</td>\n    </tr>\n    <tr>\n      <th>4</th>\n      <td>model_attr</td>\n      <td>0</td>\n    </tr>\n    <tr>\n      <th>5</th>\n      <td>category</td>\n      <td>0</td>\n    </tr>\n    <tr>\n      <th>6</th>\n      <td>brand</td>\n      <td>961834</td>\n    </tr>\n    <tr>\n      <th>7</th>\n      <td>year</td>\n      <td>0</td>\n    </tr>\n    <tr>\n      <th>8</th>\n      <td>user_attr</td>\n      <td>1118830</td>\n    </tr>\n    <tr>\n      <th>9</th>\n      <td>split</td>\n      <td>0</td>\n    </tr>\n  </tbody>\n</table>\n</div>"
     },
     "execution_count": 7,
     "metadata": {},
     "output_type": "execute_result"
    }
   ],
   "source": [
    "print('Numero de registros nulos')\n",
    "pd.DataFrame(df.isnull().sum().reset_index()).rename( columns={0:\"Registros Faltantes\",\"index\":\"Campos\"})"
   ],
   "metadata": {
    "collapsed": false
   }
  },
  {
   "cell_type": "code",
   "execution_count": 42,
   "outputs": [
    {
     "data": {
      "text/plain": "   item_id  user_id  rating model_attr                category  year  split\n0        0        0     5.0     Female  Portable Audio & Video  1999      0\n1        0        1     5.0     Female  Portable Audio & Video  1999      0\n2        0        2     3.0     Female  Portable Audio & Video  1999      0\n3        0        3     1.0     Female  Portable Audio & Video  1999      0\n4        0        4     2.0     Female  Portable Audio & Video  1999      0",
      "text/html": "<div>\n<style scoped>\n    .dataframe tbody tr th:only-of-type {\n        vertical-align: middle;\n    }\n\n    .dataframe tbody tr th {\n        vertical-align: top;\n    }\n\n    .dataframe thead th {\n        text-align: right;\n    }\n</style>\n<table border=\"1\" class=\"dataframe\">\n  <thead>\n    <tr style=\"text-align: right;\">\n      <th></th>\n      <th>item_id</th>\n      <th>user_id</th>\n      <th>rating</th>\n      <th>model_attr</th>\n      <th>category</th>\n      <th>year</th>\n      <th>split</th>\n    </tr>\n  </thead>\n  <tbody>\n    <tr>\n      <th>0</th>\n      <td>0</td>\n      <td>0</td>\n      <td>5.0</td>\n      <td>Female</td>\n      <td>Portable Audio &amp; Video</td>\n      <td>1999</td>\n      <td>0</td>\n    </tr>\n    <tr>\n      <th>1</th>\n      <td>0</td>\n      <td>1</td>\n      <td>5.0</td>\n      <td>Female</td>\n      <td>Portable Audio &amp; Video</td>\n      <td>1999</td>\n      <td>0</td>\n    </tr>\n    <tr>\n      <th>2</th>\n      <td>0</td>\n      <td>2</td>\n      <td>3.0</td>\n      <td>Female</td>\n      <td>Portable Audio &amp; Video</td>\n      <td>1999</td>\n      <td>0</td>\n    </tr>\n    <tr>\n      <th>3</th>\n      <td>0</td>\n      <td>3</td>\n      <td>1.0</td>\n      <td>Female</td>\n      <td>Portable Audio &amp; Video</td>\n      <td>1999</td>\n      <td>0</td>\n    </tr>\n    <tr>\n      <th>4</th>\n      <td>0</td>\n      <td>4</td>\n      <td>2.0</td>\n      <td>Female</td>\n      <td>Portable Audio &amp; Video</td>\n      <td>1999</td>\n      <td>0</td>\n    </tr>\n  </tbody>\n</table>\n</div>"
     },
     "execution_count": 42,
     "metadata": {},
     "output_type": "execute_result"
    }
   ],
   "source": [
    "data=df.drop(['user_attr'],axis=1)\n",
    "data=data.drop(['brand'],axis=1)\n",
    "data=data.drop(['timestamp'],axis=1)\n",
    "data.head()"
   ],
   "metadata": {
    "collapsed": false
   }
  },
  {
   "cell_type": "code",
   "execution_count": 10,
   "outputs": [
    {
     "name": "stdout",
     "output_type": "stream",
     "text": [
      "Numero de registros nulos\n"
     ]
    },
    {
     "data": {
      "text/plain": "       Campos  Registros Faltantes\n0     item_id                    0\n1     user_id                    0\n2      rating                    0\n3   timestamp                    0\n4  model_attr                    0\n5    category                    0\n6        year                    0\n7       split                    0",
      "text/html": "<div>\n<style scoped>\n    .dataframe tbody tr th:only-of-type {\n        vertical-align: middle;\n    }\n\n    .dataframe tbody tr th {\n        vertical-align: top;\n    }\n\n    .dataframe thead th {\n        text-align: right;\n    }\n</style>\n<table border=\"1\" class=\"dataframe\">\n  <thead>\n    <tr style=\"text-align: right;\">\n      <th></th>\n      <th>Campos</th>\n      <th>Registros Faltantes</th>\n    </tr>\n  </thead>\n  <tbody>\n    <tr>\n      <th>0</th>\n      <td>item_id</td>\n      <td>0</td>\n    </tr>\n    <tr>\n      <th>1</th>\n      <td>user_id</td>\n      <td>0</td>\n    </tr>\n    <tr>\n      <th>2</th>\n      <td>rating</td>\n      <td>0</td>\n    </tr>\n    <tr>\n      <th>3</th>\n      <td>timestamp</td>\n      <td>0</td>\n    </tr>\n    <tr>\n      <th>4</th>\n      <td>model_attr</td>\n      <td>0</td>\n    </tr>\n    <tr>\n      <th>5</th>\n      <td>category</td>\n      <td>0</td>\n    </tr>\n    <tr>\n      <th>6</th>\n      <td>year</td>\n      <td>0</td>\n    </tr>\n    <tr>\n      <th>7</th>\n      <td>split</td>\n      <td>0</td>\n    </tr>\n  </tbody>\n</table>\n</div>"
     },
     "execution_count": 10,
     "metadata": {},
     "output_type": "execute_result"
    }
   ],
   "source": [
    "print('Numero de registros nulos')\n",
    "pd.DataFrame(data.isnull().sum().reset_index()).rename( columns={0:\"Registros Faltantes\",\"index\":\"Campos\"})"
   ],
   "metadata": {
    "collapsed": false
   }
  },
  {
   "cell_type": "code",
   "execution_count": 19,
   "outputs": [
    {
     "data": {
      "text/plain": "array([1, 'Computers & Accessories', 'Headphones', 'Camera & Photo',\n       'Television & Video', 'Home Audio', 'Accessories & Supplies',\n       'Car Electronics & GPS', 'Security & Surveillance',\n       'Wearable Technology'], dtype=object)"
     },
     "execution_count": 19,
     "metadata": {},
     "output_type": "execute_result"
    }
   ],
   "source": [
    "data['category'].unique()"
   ],
   "metadata": {
    "collapsed": false
   }
  },
  {
   "cell_type": "code",
   "execution_count": 15,
   "outputs": [
    {
     "data": {
      "text/plain": "array(['Female', 'Female&Male', 'Male'], dtype=object)"
     },
     "execution_count": 15,
     "metadata": {},
     "output_type": "execute_result"
    }
   ],
   "source": [
    "data['model_attr'].unique()"
   ],
   "metadata": {
    "collapsed": false
   }
  },
  {
   "cell_type": "code",
   "execution_count": 43,
   "outputs": [],
   "source": [
    "data['category'] = data['category'].replace({\"Portable Audio & Video\": 1})\n",
    "data['category'] = data['category'].replace({\"Computers & Accessories\": 2})\n",
    "data['category'] = data['category'].replace({\"Headphones\": 3})\n",
    "data['category'] = data['category'].replace({\"Camera & Photo\": 4})\n",
    "data['category'] = data['category'].replace({\"Television & Video\": 5})\n",
    "data['category'] = data['category'].replace({\"Home Audio\": 6})\n",
    "data['category'] = data['category'].replace({\"Accessories & Supplies\": 7})\n",
    "data['category'] = data['category'].replace({\"Car Electronics & GPS\": 8})\n",
    "data['category'] = data['category'].replace({\"Security & Surveillance\": 9})\n",
    "data['category'] = data['category'].replace({\"Wearable Technology\": 10})"
   ],
   "metadata": {
    "collapsed": false
   }
  },
  {
   "cell_type": "code",
   "execution_count": 22,
   "outputs": [
    {
     "data": {
      "text/plain": "array([ 1,  2,  3,  4,  5,  6,  7,  8,  9, 10], dtype=int64)"
     },
     "execution_count": 22,
     "metadata": {},
     "output_type": "execute_result"
    }
   ],
   "source": [
    "data['category'].unique()"
   ],
   "metadata": {
    "collapsed": false
   }
  },
  {
   "cell_type": "code",
   "execution_count": 44,
   "outputs": [],
   "source": [
    "data['model_attr'] = data['model_attr'].replace({\"Female\": 1})\n",
    "data['model_attr'] = data['model_attr'].replace({\"Male\": 2})\n",
    "data['model_attr'] = data['model_attr'].replace({\"Female&Male\": 3})"
   ],
   "metadata": {
    "collapsed": false
   }
  },
  {
   "cell_type": "code",
   "execution_count": 24,
   "outputs": [
    {
     "data": {
      "text/plain": "array([1, 3, 2], dtype=int64)"
     },
     "execution_count": 24,
     "metadata": {},
     "output_type": "execute_result"
    }
   ],
   "source": [
    "data['model_attr'].unique()"
   ],
   "metadata": {
    "collapsed": false
   }
  },
  {
   "cell_type": "code",
   "execution_count": 47,
   "outputs": [
    {
     "name": "stdout",
     "output_type": "stream",
     "text": [
      "<class 'pandas.core.frame.DataFrame'>\n",
      "RangeIndex: 1292954 entries, 0 to 1292953\n",
      "Data columns (total 7 columns):\n",
      " #   Column      Non-Null Count    Dtype\n",
      "---  ------      --------------    -----\n",
      " 0   item_id     1292954 non-null  int64\n",
      " 1   user_id     1292954 non-null  int64\n",
      " 2   rating      1292954 non-null  int32\n",
      " 3   model_attr  1292954 non-null  int64\n",
      " 4   category    1292954 non-null  int64\n",
      " 5   year        1292954 non-null  int64\n",
      " 6   split       1292954 non-null  int64\n",
      "dtypes: int32(1), int64(6)\n",
      "memory usage: 64.1 MB\n"
     ]
    }
   ],
   "source": [
    "data.info()"
   ],
   "metadata": {
    "collapsed": false
   }
  },
  {
   "cell_type": "code",
   "execution_count": 45,
   "outputs": [],
   "source": [
    "data['rating'] = data['rating'].astype(int)"
   ],
   "metadata": {
    "collapsed": false
   }
  },
  {
   "cell_type": "code",
   "execution_count": 46,
   "outputs": [],
   "source": [
    "data2 = data"
   ],
   "metadata": {
    "collapsed": false
   }
  },
  {
   "cell_type": "markdown",
   "source": [
    "-------"
   ],
   "metadata": {
    "collapsed": false
   }
  },
  {
   "cell_type": "code",
   "execution_count": 52,
   "outputs": [],
   "source": [
    "data = data2\n",
    "data = data.head(10000)"
   ],
   "metadata": {
    "collapsed": false
   }
  },
  {
   "cell_type": "code",
   "execution_count": 53,
   "outputs": [],
   "source": [
    "y = data['rating']\n",
    "x = data.drop('rating', axis=1)"
   ],
   "metadata": {
    "collapsed": false
   }
  },
  {
   "cell_type": "code",
   "execution_count": 54,
   "outputs": [],
   "source": [
    "from sklearn.model_selection import train_test_split\n",
    "\n",
    "x_train,x_test,y_train,y_test=train_test_split(x,y,test_size=0.2)"
   ],
   "metadata": {
    "collapsed": false
   }
  },
  {
   "cell_type": "code",
   "execution_count": 55,
   "outputs": [
    {
     "name": "stdout",
     "output_type": "stream",
     "text": [
      "shape of original dataset : (10000, 7)\n",
      "shape of input - training set (8000, 6)\n",
      "shape of output - training set (8000,)\n",
      "shape of input - testing set (2000, 6)\n",
      "shape of output - testing set (2000,)\n"
     ]
    }
   ],
   "source": [
    "print(\"shape of original dataset :\", data.shape)\n",
    "print(\"shape of input - training set\", x_train.shape)\n",
    "print(\"shape of output - training set\", y_train.shape)\n",
    "print(\"shape of input - testing set\", x_test.shape)\n",
    "print(\"shape of output - testing set\", y_test.shape)"
   ],
   "metadata": {
    "collapsed": false
   }
  },
  {
   "cell_type": "code",
   "execution_count": 56,
   "outputs": [
    {
     "name": "stdout",
     "output_type": "stream",
     "text": [
      "Forma de la matriz:  (9687, 490)\n"
     ]
    }
   ],
   "source": [
    "matrix = data.pivot(index = 'user_id', columns ='item_id', values = 'rating').fillna(0)\n",
    "print('Forma de la matriz: ', matrix.shape)"
   ],
   "metadata": {
    "collapsed": false
   }
  },
  {
   "cell_type": "code",
   "execution_count": 1,
   "outputs": [],
   "source": [
    "import pandas as pd\n",
    "df = pd.read_csv('https://raw.githubusercontent.com/MengtingWan/marketBias/master/data/df_electronics.csv')\n",
    "df.to_csv('df_electronics_2023.csv')"
   ],
   "metadata": {
    "collapsed": false
   }
  },
  {
   "cell_type": "code",
   "execution_count": null,
   "outputs": [],
   "source": [],
   "metadata": {
    "collapsed": false
   }
  }
 ],
 "metadata": {
  "kernelspec": {
   "display_name": "Python 3",
   "language": "python",
   "name": "python3"
  },
  "language_info": {
   "codemirror_mode": {
    "name": "ipython",
    "version": 2
   },
   "file_extension": ".py",
   "mimetype": "text/x-python",
   "name": "python",
   "nbconvert_exporter": "python",
   "pygments_lexer": "ipython2",
   "version": "2.7.6"
  }
 },
 "nbformat": 4,
 "nbformat_minor": 0
}
